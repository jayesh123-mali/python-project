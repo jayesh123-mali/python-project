{
 "cells": [
  {
   "cell_type": "code",
   "execution_count": 1,
   "id": "06013b74",
   "metadata": {},
   "outputs": [
    {
     "name": "stdout",
     "output_type": "stream",
     "text": [
      "Requirement already satisfied: beautifulsoup4 in c:\\users\\admin\\appdata\\local\\programs\\python\\python311\\lib\\site-packages (4.12.2)\n",
      "Requirement already satisfied: soupsieve>1.2 in c:\\users\\admin\\appdata\\local\\programs\\python\\python311\\lib\\site-packages (from beautifulsoup4) (2.4.1)\n",
      "Note: you may need to restart the kernel to use updated packages.\n"
     ]
    },
    {
     "name": "stderr",
     "output_type": "stream",
     "text": [
      "\n",
      "[notice] A new release of pip is available: 23.3.1 -> 23.3.2\n",
      "[notice] To update, run: python.exe -m pip install --upgrade pip\n"
     ]
    }
   ],
   "source": [
    "pip install beautifulsoup4"
   ]
  },
  {
   "cell_type": "code",
   "execution_count": 8,
   "id": "cabca687",
   "metadata": {},
   "outputs": [
    {
     "name": "stdout",
     "output_type": "stream",
     "text": [
      "Enter the Name of Any City >> mumbai\n",
      "Searching......\n",
      "\n",
      "Location: 33°C\n",
      "Time: Mumbai, Maharashtra\n",
      "Weather Info: 33°C\n"
     ]
    }
   ],
   "source": [
    "import requests\n",
    "from bs4 import BeautifulSoup\n",
    "\n",
    "def weather(city):\n",
    "    try:\n",
    "        city = city + \" weather\"\n",
    "        url = f\"https://www.google.com/search?q={city}\"\n",
    "        res = requests.get(url)\n",
    "\n",
    "        print(\"Searching......\\n\")\n",
    "        soup = BeautifulSoup(res.text, 'html.parser')\n",
    "\n",
    "        \n",
    "        location_elements = soup.select('.BNeawe.iBp4i.AP7Wnd')  \n",
    "        time_elements = soup.select('.BNeawe.tAd8D.AP7Wnd')       \n",
    "        info_elements = soup.select('.BNeawe.iBp4i.AP7Wnd')       \n",
    "\n",
    "        if location_elements and time_elements and info_elements:\n",
    "            location = location_elements[0].getText().strip()\n",
    "            time = time_elements[0].getText().strip()\n",
    "            info = info_elements[0].getText().strip()\n",
    "\n",
    "            print(f\"Location: {location}\")\n",
    "            print(f\"Time: {time}\")\n",
    "            print(f\"Weather Info: {info}\")\n",
    "        else:\n",
    "            print(\"Weather information not found.\")\n",
    "\n",
    "    except Exception as e:\n",
    "        print(\"An error occurred:\", str(e))\n",
    "\n",
    "\n",
    "city_input = input(\"Enter the Name of Any City >> \")\n",
    "weather(city_input)\n"
   ]
  }
 ],
 "metadata": {
  "kernelspec": {
   "display_name": "Python 3 (ipykernel)",
   "language": "python",
   "name": "python3"
  },
  "language_info": {
   "codemirror_mode": {
    "name": "ipython",
    "version": 3
   },
   "file_extension": ".py",
   "mimetype": "text/x-python",
   "name": "python",
   "nbconvert_exporter": "python",
   "pygments_lexer": "ipython3",
   "version": "3.11.4"
  }
 },
 "nbformat": 4,
 "nbformat_minor": 5
}
